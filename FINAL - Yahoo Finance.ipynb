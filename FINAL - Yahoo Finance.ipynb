{
 "cells": [
  {
   "cell_type": "code",
   "execution_count": 97,
   "metadata": {
    "scrolled": true
   },
   "outputs": [
    {
     "data": {
      "text/html": [
       "<div>\n",
       "<style scoped>\n",
       "    .dataframe tbody tr th:only-of-type {\n",
       "        vertical-align: middle;\n",
       "    }\n",
       "\n",
       "    .dataframe tbody tr th {\n",
       "        vertical-align: top;\n",
       "    }\n",
       "\n",
       "    .dataframe thead th {\n",
       "        text-align: right;\n",
       "    }\n",
       "</style>\n",
       "<table border=\"1\" class=\"dataframe\">\n",
       "  <thead>\n",
       "    <tr style=\"text-align: right;\">\n",
       "      <th></th>\n",
       "      <th>firm</th>\n",
       "      <th>date_review</th>\n",
       "      <th>job_title</th>\n",
       "      <th>current</th>\n",
       "      <th>location</th>\n",
       "      <th>overall_rating</th>\n",
       "      <th>work_life_balance</th>\n",
       "      <th>culture_values</th>\n",
       "      <th>diversity_inclusion</th>\n",
       "      <th>career_opp</th>\n",
       "      <th>...</th>\n",
       "      <th>senior_mgmt</th>\n",
       "      <th>recommend</th>\n",
       "      <th>ceo_approv</th>\n",
       "      <th>outlook</th>\n",
       "      <th>headline</th>\n",
       "      <th>pros</th>\n",
       "      <th>cons</th>\n",
       "      <th>Symbol</th>\n",
       "      <th>Name</th>\n",
       "      <th>Industry</th>\n",
       "    </tr>\n",
       "  </thead>\n",
       "  <tbody>\n",
       "    <tr>\n",
       "      <th>0</th>\n",
       "      <td>McDonald-s</td>\n",
       "      <td>2020-09-16</td>\n",
       "      <td>Crew Member</td>\n",
       "      <td>Former Employee, less than 1 year</td>\n",
       "      <td>East Lansing, MI</td>\n",
       "      <td>2</td>\n",
       "      <td>3.0</td>\n",
       "      <td>3.0</td>\n",
       "      <td>5.0</td>\n",
       "      <td>1.0</td>\n",
       "      <td>...</td>\n",
       "      <td>1.0</td>\n",
       "      <td>x</td>\n",
       "      <td>r</td>\n",
       "      <td>v</td>\n",
       "      <td>Toxic Work Environment</td>\n",
       "      <td>Some of the other younger people were cool</td>\n",
       "      <td>Managers treat lower staff very poorly</td>\n",
       "      <td>MCD</td>\n",
       "      <td>McDonald's Corporation Common Stock</td>\n",
       "      <td>Restaurants</td>\n",
       "    </tr>\n",
       "    <tr>\n",
       "      <th>1</th>\n",
       "      <td>McDonald-s</td>\n",
       "      <td>2020-09-19</td>\n",
       "      <td>Crew Member</td>\n",
       "      <td>Former Employee, more than 1 year</td>\n",
       "      <td>Kennewick, WA</td>\n",
       "      <td>4</td>\n",
       "      <td>5.0</td>\n",
       "      <td>3.0</td>\n",
       "      <td>5.0</td>\n",
       "      <td>1.0</td>\n",
       "      <td>...</td>\n",
       "      <td>3.0</td>\n",
       "      <td>v</td>\n",
       "      <td>r</td>\n",
       "      <td>r</td>\n",
       "      <td>Great College Job</td>\n",
       "      <td>flexible schedule, fun environment, free food,...</td>\n",
       "      <td>free food, very little career opportunities, l...</td>\n",
       "      <td>MCD</td>\n",
       "      <td>McDonald's Corporation Common Stock</td>\n",
       "      <td>Restaurants</td>\n",
       "    </tr>\n",
       "    <tr>\n",
       "      <th>2</th>\n",
       "      <td>McDonald-s</td>\n",
       "      <td>2020-09-22</td>\n",
       "      <td>Crew Member</td>\n",
       "      <td>Former Employee, less than 1 year</td>\n",
       "      <td>Auckland, Auckland</td>\n",
       "      <td>3</td>\n",
       "      <td>5.0</td>\n",
       "      <td>3.0</td>\n",
       "      <td>5.0</td>\n",
       "      <td>2.0</td>\n",
       "      <td>...</td>\n",
       "      <td>2.0</td>\n",
       "      <td>x</td>\n",
       "      <td>r</td>\n",
       "      <td>r</td>\n",
       "      <td>Exhausting</td>\n",
       "      <td>Half price off favorites menu and learn to wor...</td>\n",
       "      <td>Managers keep you over time, shout at you and ...</td>\n",
       "      <td>MCD</td>\n",
       "      <td>McDonald's Corporation Common Stock</td>\n",
       "      <td>Restaurants</td>\n",
       "    </tr>\n",
       "    <tr>\n",
       "      <th>3</th>\n",
       "      <td>McDonald-s</td>\n",
       "      <td>2020-09-30</td>\n",
       "      <td>Crew Member</td>\n",
       "      <td>Former Employee, more than 1 year</td>\n",
       "      <td>Bristol, England, England</td>\n",
       "      <td>3</td>\n",
       "      <td>5.0</td>\n",
       "      <td>3.0</td>\n",
       "      <td>5.0</td>\n",
       "      <td>3.0</td>\n",
       "      <td>...</td>\n",
       "      <td>4.0</td>\n",
       "      <td>v</td>\n",
       "      <td>r</td>\n",
       "      <td>r</td>\n",
       "      <td>Good first job</td>\n",
       "      <td>Teaches you hard work, team, flexibility</td>\n",
       "      <td>Hard work, low pay (especially for amount of w...</td>\n",
       "      <td>MCD</td>\n",
       "      <td>McDonald's Corporation Common Stock</td>\n",
       "      <td>Restaurants</td>\n",
       "    </tr>\n",
       "    <tr>\n",
       "      <th>4</th>\n",
       "      <td>McDonald-s</td>\n",
       "      <td>2020-10-05</td>\n",
       "      <td>Crew Member</td>\n",
       "      <td>Current Employee, more than 3 years</td>\n",
       "      <td>Petoskey, MI</td>\n",
       "      <td>3</td>\n",
       "      <td>5.0</td>\n",
       "      <td>3.0</td>\n",
       "      <td>5.0</td>\n",
       "      <td>5.0</td>\n",
       "      <td>...</td>\n",
       "      <td>5.0</td>\n",
       "      <td>o</td>\n",
       "      <td>o</td>\n",
       "      <td>o</td>\n",
       "      <td>Ade</td>\n",
       "      <td>Good company to work for</td>\n",
       "      <td>Lots of drama in workplace</td>\n",
       "      <td>MCD</td>\n",
       "      <td>McDonald's Corporation Common Stock</td>\n",
       "      <td>Restaurants</td>\n",
       "    </tr>\n",
       "  </tbody>\n",
       "</table>\n",
       "<p>5 rows × 21 columns</p>\n",
       "</div>"
      ],
      "text/plain": [
       "         firm date_review     job_title                              current  \\\n",
       "0  McDonald-s  2020-09-16   Crew Member    Former Employee, less than 1 year   \n",
       "1  McDonald-s  2020-09-19   Crew Member    Former Employee, more than 1 year   \n",
       "2  McDonald-s  2020-09-22   Crew Member    Former Employee, less than 1 year   \n",
       "3  McDonald-s  2020-09-30   Crew Member    Former Employee, more than 1 year   \n",
       "4  McDonald-s  2020-10-05   Crew Member  Current Employee, more than 3 years   \n",
       "\n",
       "                    location  overall_rating  work_life_balance  \\\n",
       "0           East Lansing, MI               2                3.0   \n",
       "1              Kennewick, WA               4                5.0   \n",
       "2         Auckland, Auckland               3                5.0   \n",
       "3  Bristol, England, England               3                5.0   \n",
       "4               Petoskey, MI               3                5.0   \n",
       "\n",
       "   culture_values  diversity_inclusion  career_opp  ...  senior_mgmt  \\\n",
       "0             3.0                  5.0         1.0  ...          1.0   \n",
       "1             3.0                  5.0         1.0  ...          3.0   \n",
       "2             3.0                  5.0         2.0  ...          2.0   \n",
       "3             3.0                  5.0         3.0  ...          4.0   \n",
       "4             3.0                  5.0         5.0  ...          5.0   \n",
       "\n",
       "   recommend ceo_approv outlook                headline  \\\n",
       "0          x          r       v  Toxic Work Environment   \n",
       "1          v          r       r       Great College Job   \n",
       "2          x          r       r              Exhausting   \n",
       "3          v          r       r          Good first job   \n",
       "4          o          o       o                     Ade   \n",
       "\n",
       "                                                pros  \\\n",
       "0         Some of the other younger people were cool   \n",
       "1  flexible schedule, fun environment, free food,...   \n",
       "2  Half price off favorites menu and learn to wor...   \n",
       "3           Teaches you hard work, team, flexibility   \n",
       "4                           Good company to work for   \n",
       "\n",
       "                                                cons Symbol  \\\n",
       "0             Managers treat lower staff very poorly    MCD   \n",
       "1  free food, very little career opportunities, l...    MCD   \n",
       "2  Managers keep you over time, shout at you and ...    MCD   \n",
       "3  Hard work, low pay (especially for amount of w...    MCD   \n",
       "4                         Lots of drama in workplace    MCD   \n",
       "\n",
       "                                  Name     Industry  \n",
       "0  McDonald's Corporation Common Stock  Restaurants  \n",
       "1  McDonald's Corporation Common Stock  Restaurants  \n",
       "2  McDonald's Corporation Common Stock  Restaurants  \n",
       "3  McDonald's Corporation Common Stock  Restaurants  \n",
       "4  McDonald's Corporation Common Stock  Restaurants  \n",
       "\n",
       "[5 rows x 21 columns]"
      ]
     },
     "execution_count": 97,
     "metadata": {},
     "output_type": "execute_result"
    }
   ],
   "source": [
    "import pandas as pd\n",
    "\n",
    "kaggle = pd.read_csv(\"kaggle_converted_dates.csv\")\n",
    "\n",
    "\n",
    "## Clean the data to drop NaN values in order to build the best regression possible\n",
    "kaggle.dropna(subset=['location', 'work_life_balance', 'culture_values',\n",
    "                       'career_opp', 'comp_benefits', 'senior_mgmt'], inplace=True)\n",
    "\n",
    "kaggle.reset_index(drop=True, inplace=True)\n",
    "\n",
    "kaggle.head()"
   ]
  },
  {
   "cell_type": "code",
   "execution_count": 98,
   "metadata": {},
   "outputs": [
    {
     "data": {
      "text/plain": [
       "121546"
      ]
     },
     "execution_count": 98,
     "metadata": {},
     "output_type": "execute_result"
    }
   ],
   "source": [
    "# Check the number of remaining rows left in the dataset\n",
    "len(kaggle.index)"
   ]
  },
  {
   "cell_type": "code",
   "execution_count": 99,
   "metadata": {},
   "outputs": [
    {
     "data": {
      "text/plain": [
       "\"\\nimport pandas as pd\\n\\n# Assuming df is your DataFrame\\n# Replace 'your_file_name.csv' with the desired file name\\nkaggle.to_csv('KaggleCleaned.csv', index=False)\\n\""
      ]
     },
     "execution_count": 99,
     "metadata": {},
     "output_type": "execute_result"
    }
   ],
   "source": [
    "'''\n",
    "import pandas as pd\n",
    "\n",
    "# Assuming df is your DataFrame\n",
    "# Replace 'your_file_name.csv' with the desired file name\n",
    "kaggle.to_csv('KaggleCleaned.csv', index=False)\n",
    "'''"
   ]
  },
  {
   "cell_type": "code",
   "execution_count": 100,
   "metadata": {},
   "outputs": [],
   "source": [
    "# !pip install yfinance"
   ]
  },
  {
   "cell_type": "code",
   "execution_count": 101,
   "metadata": {},
   "outputs": [
    {
     "name": "stdout",
     "output_type": "stream",
     "text": [
      "['MCD' 'ORAN' 'ORCL' 'MS' 'TRI' 'CRM' 'AAPL' 'ARMK' 'MSFT' 'AXP' 'HSBC'\n",
      " 'YEXT' 'LYG' 'WTW' 'DVA' 'PRSO' 'KFY' 'SPWR' 'WIT' 'CSCO' 'IBIO' 'DT'\n",
      " 'AWRE']\n"
     ]
    }
   ],
   "source": [
    "tickers = kaggle['Symbol'].unique()\n",
    "\n",
    "print(tickers)"
   ]
  },
  {
   "cell_type": "code",
   "execution_count": 102,
   "metadata": {
    "scrolled": true
   },
   "outputs": [
    {
     "name": "stdout",
     "output_type": "stream",
     "text": [
      "https://query1.finance.yahoo.com/v8/finance/chart/MCD?metrics=high?&interval=3mo&range=5y\n",
      "https://query1.finance.yahoo.com/v8/finance/chart/ORAN?metrics=high?&interval=3mo&range=5y\n",
      "https://query1.finance.yahoo.com/v8/finance/chart/ORCL?metrics=high?&interval=3mo&range=5y\n",
      "https://query1.finance.yahoo.com/v8/finance/chart/MS?metrics=high?&interval=3mo&range=5y\n",
      "https://query1.finance.yahoo.com/v8/finance/chart/TRI?metrics=high?&interval=3mo&range=5y\n",
      "https://query1.finance.yahoo.com/v8/finance/chart/CRM?metrics=high?&interval=3mo&range=5y\n",
      "https://query1.finance.yahoo.com/v8/finance/chart/AAPL?metrics=high?&interval=3mo&range=5y\n",
      "https://query1.finance.yahoo.com/v8/finance/chart/ARMK?metrics=high?&interval=3mo&range=5y\n",
      "https://query1.finance.yahoo.com/v8/finance/chart/MSFT?metrics=high?&interval=3mo&range=5y\n",
      "https://query1.finance.yahoo.com/v8/finance/chart/AXP?metrics=high?&interval=3mo&range=5y\n",
      "https://query1.finance.yahoo.com/v8/finance/chart/HSBC?metrics=high?&interval=3mo&range=5y\n",
      "https://query1.finance.yahoo.com/v8/finance/chart/YEXT?metrics=high?&interval=3mo&range=5y\n",
      "https://query1.finance.yahoo.com/v8/finance/chart/LYG?metrics=high?&interval=3mo&range=5y\n",
      "https://query1.finance.yahoo.com/v8/finance/chart/WTW?metrics=high?&interval=3mo&range=5y\n",
      "https://query1.finance.yahoo.com/v8/finance/chart/DVA?metrics=high?&interval=3mo&range=5y\n",
      "https://query1.finance.yahoo.com/v8/finance/chart/PRSO?metrics=high?&interval=3mo&range=5y\n",
      "https://query1.finance.yahoo.com/v8/finance/chart/KFY?metrics=high?&interval=3mo&range=5y\n",
      "https://query1.finance.yahoo.com/v8/finance/chart/SPWR?metrics=high?&interval=3mo&range=5y\n",
      "https://query1.finance.yahoo.com/v8/finance/chart/WIT?metrics=high?&interval=3mo&range=5y\n",
      "https://query1.finance.yahoo.com/v8/finance/chart/CSCO?metrics=high?&interval=3mo&range=5y\n",
      "https://query1.finance.yahoo.com/v8/finance/chart/IBIO?metrics=high?&interval=3mo&range=5y\n",
      "https://query1.finance.yahoo.com/v8/finance/chart/DT?metrics=high?&interval=3mo&range=5y\n",
      "https://query1.finance.yahoo.com/v8/finance/chart/AWRE?metrics=high?&interval=3mo&range=5y\n",
      "[286.86, 11.925, 112.825, 82.195, 141.867, 251.465, 195.279, 27.305, 373.22, 168.44, 39.073, 5.75, 2.305, 242.91, 107.23, 0.2, 54.11, 4.565, 5.02, 48.425, 1.38, 53.881, 1.62]\n"
     ]
    }
   ],
   "source": [
    "import urllib.request\n",
    "import json\n",
    "from pandas import json_normalize\n",
    "\n",
    "raw_finance = []\n",
    "\n",
    "beg_url = \"https://query1.finance.yahoo.com/v8/finance/chart/\"\n",
    "end_url = \"?metrics=high?&interval=3mo&range=5y\"\n",
    "\n",
    "for ticker in tickers:\n",
    "    full_url = beg_url + ticker + end_url\n",
    "\n",
    "    print(full_url)\n",
    "\n",
    "    result = urllib.request.urlopen(full_url).read()\n",
    "    result_dict = json.loads(result)\n",
    "    fin_data = json_normalize(result_dict['chart']['result'])\n",
    "\n",
    "    try:\n",
    "        market_price = float(fin_data['meta.regularMarketPrice'][0])\n",
    "        raw_finance.append(market_price)\n",
    "    except (KeyError, ValueError):\n",
    "        raw_finance.append(None)\n",
    "\n",
    "print(raw_finance)"
   ]
  },
  {
   "cell_type": "code",
   "execution_count": 103,
   "metadata": {
    "scrolled": true
   },
   "outputs": [
    {
     "name": "stdout",
     "output_type": "stream",
     "text": [
      "[286.86, 11.925, 112.825, 82.195, 141.867, 251.465, 195.279, 27.305, 373.22, 168.44, 39.073, 5.75, 2.305, 242.91, 107.23, 0.2, 54.11, 4.565, 5.02, 48.425, 1.38, 53.881, 1.62]\n"
     ]
    }
   ],
   "source": [
    "print(raw_finance)"
   ]
  },
  {
   "cell_type": "code",
   "execution_count": 104,
   "metadata": {},
   "outputs": [
    {
     "data": {
      "text/plain": [
       "list"
      ]
     },
     "execution_count": 104,
     "metadata": {},
     "output_type": "execute_result"
    }
   ],
   "source": [
    "type(raw_finance)\n",
    "#len(raw_finance)"
   ]
  },
  {
   "cell_type": "code",
   "execution_count": 105,
   "metadata": {},
   "outputs": [
    {
     "data": {
      "text/plain": [
       "numpy.ndarray"
      ]
     },
     "execution_count": 105,
     "metadata": {},
     "output_type": "execute_result"
    }
   ],
   "source": [
    "type(tickers)\n",
    "#len(tickers)"
   ]
  },
  {
   "cell_type": "code",
   "execution_count": 106,
   "metadata": {},
   "outputs": [
    {
     "data": {
      "text/html": [
       "<div>\n",
       "<style scoped>\n",
       "    .dataframe tbody tr th:only-of-type {\n",
       "        vertical-align: middle;\n",
       "    }\n",
       "\n",
       "    .dataframe tbody tr th {\n",
       "        vertical-align: top;\n",
       "    }\n",
       "\n",
       "    .dataframe thead th {\n",
       "        text-align: right;\n",
       "    }\n",
       "</style>\n",
       "<table border=\"1\" class=\"dataframe\">\n",
       "  <thead>\n",
       "    <tr style=\"text-align: right;\">\n",
       "      <th></th>\n",
       "      <th>0</th>\n",
       "    </tr>\n",
       "  </thead>\n",
       "  <tbody>\n",
       "    <tr>\n",
       "      <th>0</th>\n",
       "      <td>MCD</td>\n",
       "    </tr>\n",
       "    <tr>\n",
       "      <th>1</th>\n",
       "      <td>ORAN</td>\n",
       "    </tr>\n",
       "    <tr>\n",
       "      <th>2</th>\n",
       "      <td>ORCL</td>\n",
       "    </tr>\n",
       "    <tr>\n",
       "      <th>3</th>\n",
       "      <td>MS</td>\n",
       "    </tr>\n",
       "    <tr>\n",
       "      <th>4</th>\n",
       "      <td>TRI</td>\n",
       "    </tr>\n",
       "  </tbody>\n",
       "</table>\n",
       "</div>"
      ],
      "text/plain": [
       "      0\n",
       "0   MCD\n",
       "1  ORAN\n",
       "2  ORCL\n",
       "3    MS\n",
       "4   TRI"
      ]
     },
     "execution_count": 106,
     "metadata": {},
     "output_type": "execute_result"
    }
   ],
   "source": [
    "tickers_df = pd.DataFrame(tickers)\n",
    "\n",
    "tickers_df.head()"
   ]
  },
  {
   "cell_type": "code",
   "execution_count": 107,
   "metadata": {},
   "outputs": [
    {
     "data": {
      "text/html": [
       "<div>\n",
       "<style scoped>\n",
       "    .dataframe tbody tr th:only-of-type {\n",
       "        vertical-align: middle;\n",
       "    }\n",
       "\n",
       "    .dataframe tbody tr th {\n",
       "        vertical-align: top;\n",
       "    }\n",
       "\n",
       "    .dataframe thead th {\n",
       "        text-align: right;\n",
       "    }\n",
       "</style>\n",
       "<table border=\"1\" class=\"dataframe\">\n",
       "  <thead>\n",
       "    <tr style=\"text-align: right;\">\n",
       "      <th></th>\n",
       "      <th>0</th>\n",
       "    </tr>\n",
       "  </thead>\n",
       "  <tbody>\n",
       "    <tr>\n",
       "      <th>0</th>\n",
       "      <td>286.860</td>\n",
       "    </tr>\n",
       "    <tr>\n",
       "      <th>1</th>\n",
       "      <td>11.925</td>\n",
       "    </tr>\n",
       "    <tr>\n",
       "      <th>2</th>\n",
       "      <td>112.825</td>\n",
       "    </tr>\n",
       "    <tr>\n",
       "      <th>3</th>\n",
       "      <td>82.195</td>\n",
       "    </tr>\n",
       "    <tr>\n",
       "      <th>4</th>\n",
       "      <td>141.867</td>\n",
       "    </tr>\n",
       "  </tbody>\n",
       "</table>\n",
       "</div>"
      ],
      "text/plain": [
       "         0\n",
       "0  286.860\n",
       "1   11.925\n",
       "2  112.825\n",
       "3   82.195\n",
       "4  141.867"
      ]
     },
     "execution_count": 107,
     "metadata": {},
     "output_type": "execute_result"
    }
   ],
   "source": [
    "financial_data = pd.DataFrame(raw_finance)\n",
    "\n",
    "financial_data.head()"
   ]
  },
  {
   "cell_type": "code",
   "execution_count": 108,
   "metadata": {
    "scrolled": true
   },
   "outputs": [
    {
     "data": {
      "text/html": [
       "<div>\n",
       "<style scoped>\n",
       "    .dataframe tbody tr th:only-of-type {\n",
       "        vertical-align: middle;\n",
       "    }\n",
       "\n",
       "    .dataframe tbody tr th {\n",
       "        vertical-align: top;\n",
       "    }\n",
       "\n",
       "    .dataframe thead th {\n",
       "        text-align: right;\n",
       "    }\n",
       "</style>\n",
       "<table border=\"1\" class=\"dataframe\">\n",
       "  <thead>\n",
       "    <tr style=\"text-align: right;\">\n",
       "      <th></th>\n",
       "      <th>0</th>\n",
       "      <th>regMarkPrice</th>\n",
       "    </tr>\n",
       "  </thead>\n",
       "  <tbody>\n",
       "    <tr>\n",
       "      <th>0</th>\n",
       "      <td>MCD</td>\n",
       "      <td>286.860</td>\n",
       "    </tr>\n",
       "    <tr>\n",
       "      <th>1</th>\n",
       "      <td>ORAN</td>\n",
       "      <td>11.925</td>\n",
       "    </tr>\n",
       "    <tr>\n",
       "      <th>2</th>\n",
       "      <td>ORCL</td>\n",
       "      <td>112.825</td>\n",
       "    </tr>\n",
       "    <tr>\n",
       "      <th>3</th>\n",
       "      <td>MS</td>\n",
       "      <td>82.195</td>\n",
       "    </tr>\n",
       "    <tr>\n",
       "      <th>4</th>\n",
       "      <td>TRI</td>\n",
       "      <td>141.867</td>\n",
       "    </tr>\n",
       "  </tbody>\n",
       "</table>\n",
       "</div>"
      ],
      "text/plain": [
       "      0  regMarkPrice\n",
       "0   MCD       286.860\n",
       "1  ORAN        11.925\n",
       "2  ORCL       112.825\n",
       "3    MS        82.195\n",
       "4   TRI       141.867"
      ]
     },
     "execution_count": 108,
     "metadata": {},
     "output_type": "execute_result"
    }
   ],
   "source": [
    "# type(tickers_df)\n",
    "type(financial_data)\n",
    "\n",
    "tickers_df['regMarkPrice'] = raw_finance\n",
    "\n",
    "tickers_df.head()"
   ]
  },
  {
   "cell_type": "code",
   "execution_count": 109,
   "metadata": {},
   "outputs": [],
   "source": [
    "tickers_df.to_csv('TickerPrices.csv', index=False)"
   ]
  }
 ],
 "metadata": {
  "kernelspec": {
   "display_name": "Python 3",
   "language": "python",
   "name": "python3"
  },
  "language_info": {
   "codemirror_mode": {
    "name": "ipython",
    "version": 3
   },
   "file_extension": ".py",
   "mimetype": "text/x-python",
   "name": "python",
   "nbconvert_exporter": "python",
   "pygments_lexer": "ipython3",
   "version": "3.7.16"
  }
 },
 "nbformat": 4,
 "nbformat_minor": 4
}
